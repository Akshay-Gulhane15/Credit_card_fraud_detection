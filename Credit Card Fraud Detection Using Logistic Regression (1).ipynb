{
 "cells": [
  {
   "cell_type": "markdown",
   "id": "ed62cb0c",
   "metadata": {},
   "source": [
    "## CASE :-\n",
    "\n",
    "### We are going to predict whether a credit card transaction is Legit ( Legal ) or Fraud."
   ]
  },
  {
   "cell_type": "markdown",
   "id": "2216aa5a",
   "metadata": {},
   "source": [
    "#### WORK FLOW :- \n",
    "\n",
    "- Credit card data\n",
    "- Data Pre Processing\n",
    "- Data Analysis\n",
    "- Train Test Split\n",
    "- Logistic Regression Model\n",
    "- Model Evaluation\n",
    "- Predictive System"
   ]
  },
  {
   "cell_type": "markdown",
   "id": "aa75dc47",
   "metadata": {},
   "source": [
    "#### Importing necessary libraries"
   ]
  },
  {
   "cell_type": "code",
   "execution_count": 1,
   "id": "731488a2",
   "metadata": {},
   "outputs": [],
   "source": [
    "## Importing the necessary libraries\n",
    "\n",
    "import pandas as pd\n",
    "import numpy as np\n",
    "from sklearn.model_selection import train_test_split\n",
    "from sklearn.linear_model import LogisticRegression\n",
    "from sklearn.metrics import accuracy_score"
   ]
  },
  {
   "cell_type": "markdown",
   "id": "48a6a646",
   "metadata": {},
   "source": [
    "#### Importing the dataset and viewing it"
   ]
  },
  {
   "cell_type": "code",
   "execution_count": 2,
   "id": "538e7266",
   "metadata": {},
   "outputs": [
    {
     "data": {
      "text/html": [
       "<div>\n",
       "<style scoped>\n",
       "    .dataframe tbody tr th:only-of-type {\n",
       "        vertical-align: middle;\n",
       "    }\n",
       "\n",
       "    .dataframe tbody tr th {\n",
       "        vertical-align: top;\n",
       "    }\n",
       "\n",
       "    .dataframe thead th {\n",
       "        text-align: right;\n",
       "    }\n",
       "</style>\n",
       "<table border=\"1\" class=\"dataframe\">\n",
       "  <thead>\n",
       "    <tr style=\"text-align: right;\">\n",
       "      <th></th>\n",
       "      <th>Time</th>\n",
       "      <th>V1</th>\n",
       "      <th>V2</th>\n",
       "      <th>V3</th>\n",
       "      <th>V4</th>\n",
       "      <th>V5</th>\n",
       "      <th>V6</th>\n",
       "      <th>V7</th>\n",
       "      <th>V8</th>\n",
       "      <th>V9</th>\n",
       "      <th>...</th>\n",
       "      <th>V21</th>\n",
       "      <th>V22</th>\n",
       "      <th>V23</th>\n",
       "      <th>V24</th>\n",
       "      <th>V25</th>\n",
       "      <th>V26</th>\n",
       "      <th>V27</th>\n",
       "      <th>V28</th>\n",
       "      <th>Amount</th>\n",
       "      <th>Class</th>\n",
       "    </tr>\n",
       "  </thead>\n",
       "  <tbody>\n",
       "    <tr>\n",
       "      <th>0</th>\n",
       "      <td>0</td>\n",
       "      <td>-1.359807</td>\n",
       "      <td>-0.072781</td>\n",
       "      <td>2.536347</td>\n",
       "      <td>1.378155</td>\n",
       "      <td>-0.338321</td>\n",
       "      <td>0.462388</td>\n",
       "      <td>0.239599</td>\n",
       "      <td>0.098698</td>\n",
       "      <td>0.363787</td>\n",
       "      <td>...</td>\n",
       "      <td>-0.018307</td>\n",
       "      <td>0.277838</td>\n",
       "      <td>-0.110474</td>\n",
       "      <td>0.066928</td>\n",
       "      <td>0.128539</td>\n",
       "      <td>-0.189115</td>\n",
       "      <td>0.133558</td>\n",
       "      <td>-0.021053</td>\n",
       "      <td>149.62</td>\n",
       "      <td>0</td>\n",
       "    </tr>\n",
       "    <tr>\n",
       "      <th>1</th>\n",
       "      <td>0</td>\n",
       "      <td>1.191857</td>\n",
       "      <td>0.266151</td>\n",
       "      <td>0.166480</td>\n",
       "      <td>0.448154</td>\n",
       "      <td>0.060018</td>\n",
       "      <td>-0.082361</td>\n",
       "      <td>-0.078803</td>\n",
       "      <td>0.085102</td>\n",
       "      <td>-0.255425</td>\n",
       "      <td>...</td>\n",
       "      <td>-0.225775</td>\n",
       "      <td>-0.638672</td>\n",
       "      <td>0.101288</td>\n",
       "      <td>-0.339846</td>\n",
       "      <td>0.167170</td>\n",
       "      <td>0.125895</td>\n",
       "      <td>-0.008983</td>\n",
       "      <td>0.014724</td>\n",
       "      <td>2.69</td>\n",
       "      <td>0</td>\n",
       "    </tr>\n",
       "    <tr>\n",
       "      <th>2</th>\n",
       "      <td>1</td>\n",
       "      <td>-1.358354</td>\n",
       "      <td>-1.340163</td>\n",
       "      <td>1.773209</td>\n",
       "      <td>0.379780</td>\n",
       "      <td>-0.503198</td>\n",
       "      <td>1.800499</td>\n",
       "      <td>0.791461</td>\n",
       "      <td>0.247676</td>\n",
       "      <td>-1.514654</td>\n",
       "      <td>...</td>\n",
       "      <td>0.247998</td>\n",
       "      <td>0.771679</td>\n",
       "      <td>0.909412</td>\n",
       "      <td>-0.689281</td>\n",
       "      <td>-0.327642</td>\n",
       "      <td>-0.139097</td>\n",
       "      <td>-0.055353</td>\n",
       "      <td>-0.059752</td>\n",
       "      <td>378.66</td>\n",
       "      <td>0</td>\n",
       "    </tr>\n",
       "    <tr>\n",
       "      <th>3</th>\n",
       "      <td>1</td>\n",
       "      <td>-0.966272</td>\n",
       "      <td>-0.185226</td>\n",
       "      <td>1.792993</td>\n",
       "      <td>-0.863291</td>\n",
       "      <td>-0.010309</td>\n",
       "      <td>1.247203</td>\n",
       "      <td>0.237609</td>\n",
       "      <td>0.377436</td>\n",
       "      <td>-1.387024</td>\n",
       "      <td>...</td>\n",
       "      <td>-0.108300</td>\n",
       "      <td>0.005274</td>\n",
       "      <td>-0.190321</td>\n",
       "      <td>-1.175575</td>\n",
       "      <td>0.647376</td>\n",
       "      <td>-0.221929</td>\n",
       "      <td>0.062723</td>\n",
       "      <td>0.061458</td>\n",
       "      <td>123.50</td>\n",
       "      <td>0</td>\n",
       "    </tr>\n",
       "    <tr>\n",
       "      <th>4</th>\n",
       "      <td>2</td>\n",
       "      <td>-1.158233</td>\n",
       "      <td>0.877737</td>\n",
       "      <td>1.548718</td>\n",
       "      <td>0.403034</td>\n",
       "      <td>-0.407193</td>\n",
       "      <td>0.095921</td>\n",
       "      <td>0.592941</td>\n",
       "      <td>-0.270533</td>\n",
       "      <td>0.817739</td>\n",
       "      <td>...</td>\n",
       "      <td>-0.009431</td>\n",
       "      <td>0.798278</td>\n",
       "      <td>-0.137458</td>\n",
       "      <td>0.141267</td>\n",
       "      <td>-0.206010</td>\n",
       "      <td>0.502292</td>\n",
       "      <td>0.219422</td>\n",
       "      <td>0.215153</td>\n",
       "      <td>69.99</td>\n",
       "      <td>0</td>\n",
       "    </tr>\n",
       "  </tbody>\n",
       "</table>\n",
       "<p>5 rows × 31 columns</p>\n",
       "</div>"
      ],
      "text/plain": [
       "   Time        V1        V2        V3        V4        V5        V6        V7  \\\n",
       "0     0 -1.359807 -0.072781  2.536347  1.378155 -0.338321  0.462388  0.239599   \n",
       "1     0  1.191857  0.266151  0.166480  0.448154  0.060018 -0.082361 -0.078803   \n",
       "2     1 -1.358354 -1.340163  1.773209  0.379780 -0.503198  1.800499  0.791461   \n",
       "3     1 -0.966272 -0.185226  1.792993 -0.863291 -0.010309  1.247203  0.237609   \n",
       "4     2 -1.158233  0.877737  1.548718  0.403034 -0.407193  0.095921  0.592941   \n",
       "\n",
       "         V8        V9  ...       V21       V22       V23       V24       V25  \\\n",
       "0  0.098698  0.363787  ... -0.018307  0.277838 -0.110474  0.066928  0.128539   \n",
       "1  0.085102 -0.255425  ... -0.225775 -0.638672  0.101288 -0.339846  0.167170   \n",
       "2  0.247676 -1.514654  ...  0.247998  0.771679  0.909412 -0.689281 -0.327642   \n",
       "3  0.377436 -1.387024  ... -0.108300  0.005274 -0.190321 -1.175575  0.647376   \n",
       "4 -0.270533  0.817739  ... -0.009431  0.798278 -0.137458  0.141267 -0.206010   \n",
       "\n",
       "        V26       V27       V28  Amount  Class  \n",
       "0 -0.189115  0.133558 -0.021053  149.62      0  \n",
       "1  0.125895 -0.008983  0.014724    2.69      0  \n",
       "2 -0.139097 -0.055353 -0.059752  378.66      0  \n",
       "3 -0.221929  0.062723  0.061458  123.50      0  \n",
       "4  0.502292  0.219422  0.215153   69.99      0  \n",
       "\n",
       "[5 rows x 31 columns]"
      ]
     },
     "execution_count": 2,
     "metadata": {},
     "output_type": "execute_result"
    }
   ],
   "source": [
    "## Importing the dataset\n",
    "\n",
    "data = pd.read_csv(r\"C:\\Users\\ASUS\\Downloads\\Credit Card.csv\")\n",
    "data.head()"
   ]
  },
  {
   "cell_type": "markdown",
   "id": "1a816819",
   "metadata": {},
   "source": [
    "#### Getting some additional information about the DataSet"
   ]
  },
  {
   "cell_type": "code",
   "execution_count": 3,
   "id": "d600a335",
   "metadata": {},
   "outputs": [
    {
     "name": "stdout",
     "output_type": "stream",
     "text": [
      "<class 'pandas.core.frame.DataFrame'>\n",
      "RangeIndex: 1175 entries, 0 to 1174\n",
      "Data columns (total 31 columns):\n",
      " #   Column  Non-Null Count  Dtype  \n",
      "---  ------  --------------  -----  \n",
      " 0   Time    1175 non-null   int64  \n",
      " 1   V1      1175 non-null   float64\n",
      " 2   V2      1175 non-null   float64\n",
      " 3   V3      1175 non-null   float64\n",
      " 4   V4      1175 non-null   float64\n",
      " 5   V5      1175 non-null   float64\n",
      " 6   V6      1175 non-null   float64\n",
      " 7   V7      1175 non-null   float64\n",
      " 8   V8      1175 non-null   float64\n",
      " 9   V9      1175 non-null   float64\n",
      " 10  V10     1175 non-null   float64\n",
      " 11  V11     1175 non-null   float64\n",
      " 12  V12     1175 non-null   float64\n",
      " 13  V13     1175 non-null   float64\n",
      " 14  V14     1175 non-null   float64\n",
      " 15  V15     1175 non-null   float64\n",
      " 16  V16     1175 non-null   float64\n",
      " 17  V17     1175 non-null   float64\n",
      " 18  V18     1175 non-null   float64\n",
      " 19  V19     1175 non-null   float64\n",
      " 20  V20     1175 non-null   float64\n",
      " 21  V21     1175 non-null   float64\n",
      " 22  V22     1175 non-null   float64\n",
      " 23  V23     1175 non-null   float64\n",
      " 24  V24     1175 non-null   float64\n",
      " 25  V25     1175 non-null   float64\n",
      " 26  V26     1175 non-null   float64\n",
      " 27  V27     1175 non-null   float64\n",
      " 28  V28     1175 non-null   float64\n",
      " 29  Amount  1175 non-null   float64\n",
      " 30  Class   1175 non-null   int64  \n",
      "dtypes: float64(29), int64(2)\n",
      "memory usage: 284.7 KB\n"
     ]
    }
   ],
   "source": [
    "## Data information\n",
    "\n",
    "data.info()"
   ]
  },
  {
   "cell_type": "code",
   "execution_count": 4,
   "id": "88b2893b",
   "metadata": {},
   "outputs": [
    {
     "data": {
      "text/plain": [
       "Time      0\n",
       "V1        0\n",
       "V2        0\n",
       "V3        0\n",
       "V4        0\n",
       "V5        0\n",
       "V6        0\n",
       "V7        0\n",
       "V8        0\n",
       "V9        0\n",
       "V10       0\n",
       "V11       0\n",
       "V12       0\n",
       "V13       0\n",
       "V14       0\n",
       "V15       0\n",
       "V16       0\n",
       "V17       0\n",
       "V18       0\n",
       "V19       0\n",
       "V20       0\n",
       "V21       0\n",
       "V22       0\n",
       "V23       0\n",
       "V24       0\n",
       "V25       0\n",
       "V26       0\n",
       "V27       0\n",
       "V28       0\n",
       "Amount    0\n",
       "Class     0\n",
       "dtype: int64"
      ]
     },
     "execution_count": 4,
     "metadata": {},
     "output_type": "execute_result"
    }
   ],
   "source": [
    "## Checking missing values in each column\n",
    "data.isnull().sum()"
   ]
  },
  {
   "cell_type": "code",
   "execution_count": 5,
   "id": "3e38ff91",
   "metadata": {},
   "outputs": [
    {
     "data": {
      "text/plain": [
       "0    1173\n",
       "1       2\n",
       "Name: Class, dtype: int64"
      ]
     },
     "execution_count": 5,
     "metadata": {},
     "output_type": "execute_result"
    }
   ],
   "source": [
    "## Checking distribution of class column\n",
    "\n",
    "data['Class'].value_counts()"
   ]
  },
  {
   "cell_type": "markdown",
   "id": "b7c76fba",
   "metadata": {},
   "source": [
    "#### This is highly imbalanced data set :-"
   ]
  },
  {
   "cell_type": "markdown",
   "id": "fe313ea9",
   "metadata": {},
   "source": [
    "- 0 --> Legit Transaction\n",
    "\n",
    "- 1 --> Fraudulent Transaction"
   ]
  },
  {
   "cell_type": "code",
   "execution_count": 6,
   "id": "c34c30e5",
   "metadata": {},
   "outputs": [],
   "source": [
    "## Separating the data for analysis\n",
    "\n",
    "legit = data[data.Class == 0]\n",
    "fraud = data[data.Class == 1]"
   ]
  },
  {
   "cell_type": "code",
   "execution_count": 7,
   "id": "37ca9b34",
   "metadata": {},
   "outputs": [
    {
     "name": "stdout",
     "output_type": "stream",
     "text": [
      "(1173, 31)\n",
      "(2, 31)\n"
     ]
    }
   ],
   "source": [
    "## Checking the shape of the DataSet\n",
    "print(legit.shape)\n",
    "print(fraud.shape)"
   ]
  },
  {
   "cell_type": "code",
   "execution_count": 8,
   "id": "aba5eab8",
   "metadata": {},
   "outputs": [
    {
     "data": {
      "text/plain": [
       "count    1173.000000\n",
       "mean       65.064510\n",
       "std       181.271328\n",
       "min         0.000000\n",
       "25%         5.310000\n",
       "50%        15.380000\n",
       "75%        55.450000\n",
       "max      3828.040000\n",
       "Name: Amount, dtype: float64"
      ]
     },
     "execution_count": 8,
     "metadata": {},
     "output_type": "execute_result"
    }
   ],
   "source": [
    "## Statistical measure of data\n",
    "## Checking the Description  of the DataSet for Legit Transactions\n",
    "\n",
    "legit.Amount.describe()"
   ]
  },
  {
   "cell_type": "code",
   "execution_count": 9,
   "id": "9f9e7cfd",
   "metadata": {},
   "outputs": [
    {
     "data": {
      "text/plain": [
       "count      2.000000\n",
       "mean     264.500000\n",
       "std      374.059487\n",
       "min        0.000000\n",
       "25%      132.250000\n",
       "50%      264.500000\n",
       "75%      396.750000\n",
       "max      529.000000\n",
       "Name: Amount, dtype: float64"
      ]
     },
     "execution_count": 9,
     "metadata": {},
     "output_type": "execute_result"
    }
   ],
   "source": [
    "## Statistical measure of data\n",
    "## Checking the Description  of the DataSet for Fraudalent Transactions\n",
    "\n",
    "fraud.Amount.describe()"
   ]
  },
  {
   "cell_type": "code",
   "execution_count": 10,
   "id": "b43290e7",
   "metadata": {},
   "outputs": [
    {
     "data": {
      "text/html": [
       "<div>\n",
       "<style scoped>\n",
       "    .dataframe tbody tr th:only-of-type {\n",
       "        vertical-align: middle;\n",
       "    }\n",
       "\n",
       "    .dataframe tbody tr th {\n",
       "        vertical-align: top;\n",
       "    }\n",
       "\n",
       "    .dataframe thead th {\n",
       "        text-align: right;\n",
       "    }\n",
       "</style>\n",
       "<table border=\"1\" class=\"dataframe\">\n",
       "  <thead>\n",
       "    <tr style=\"text-align: right;\">\n",
       "      <th></th>\n",
       "      <th>Time</th>\n",
       "      <th>V1</th>\n",
       "      <th>V2</th>\n",
       "      <th>V3</th>\n",
       "      <th>V4</th>\n",
       "      <th>V5</th>\n",
       "      <th>V6</th>\n",
       "      <th>V7</th>\n",
       "      <th>V8</th>\n",
       "      <th>V9</th>\n",
       "      <th>...</th>\n",
       "      <th>V20</th>\n",
       "      <th>V21</th>\n",
       "      <th>V22</th>\n",
       "      <th>V23</th>\n",
       "      <th>V24</th>\n",
       "      <th>V25</th>\n",
       "      <th>V26</th>\n",
       "      <th>V27</th>\n",
       "      <th>V28</th>\n",
       "      <th>Amount</th>\n",
       "    </tr>\n",
       "    <tr>\n",
       "      <th>Class</th>\n",
       "      <th></th>\n",
       "      <th></th>\n",
       "      <th></th>\n",
       "      <th></th>\n",
       "      <th></th>\n",
       "      <th></th>\n",
       "      <th></th>\n",
       "      <th></th>\n",
       "      <th></th>\n",
       "      <th></th>\n",
       "      <th></th>\n",
       "      <th></th>\n",
       "      <th></th>\n",
       "      <th></th>\n",
       "      <th></th>\n",
       "      <th></th>\n",
       "      <th></th>\n",
       "      <th></th>\n",
       "      <th></th>\n",
       "      <th></th>\n",
       "      <th></th>\n",
       "    </tr>\n",
       "  </thead>\n",
       "  <tbody>\n",
       "    <tr>\n",
       "      <th>0</th>\n",
       "      <td>440.514919</td>\n",
       "      <td>-0.191290</td>\n",
       "      <td>0.240299</td>\n",
       "      <td>0.879805</td>\n",
       "      <td>0.245752</td>\n",
       "      <td>-0.028989</td>\n",
       "      <td>0.127834</td>\n",
       "      <td>0.105288</td>\n",
       "      <td>-0.070509</td>\n",
       "      <td>0.005240</td>\n",
       "      <td>...</td>\n",
       "      <td>0.063227</td>\n",
       "      <td>-0.005717</td>\n",
       "      <td>-0.120199</td>\n",
       "      <td>-0.046657</td>\n",
       "      <td>0.004919</td>\n",
       "      <td>0.116965</td>\n",
       "      <td>0.029516</td>\n",
       "      <td>0.014069</td>\n",
       "      <td>-0.015882</td>\n",
       "      <td>65.06451</td>\n",
       "    </tr>\n",
       "    <tr>\n",
       "      <th>1</th>\n",
       "      <td>439.000000</td>\n",
       "      <td>-2.677884</td>\n",
       "      <td>-0.602658</td>\n",
       "      <td>-0.260694</td>\n",
       "      <td>3.143275</td>\n",
       "      <td>0.418809</td>\n",
       "      <td>-1.245684</td>\n",
       "      <td>-1.105907</td>\n",
       "      <td>0.661932</td>\n",
       "      <td>-1.520521</td>\n",
       "      <td>...</td>\n",
       "      <td>1.114625</td>\n",
       "      <td>0.589464</td>\n",
       "      <td>0.200214</td>\n",
       "      <td>0.455377</td>\n",
       "      <td>0.013198</td>\n",
       "      <td>0.162159</td>\n",
       "      <td>0.016239</td>\n",
       "      <td>0.004186</td>\n",
       "      <td>-0.053756</td>\n",
       "      <td>264.50000</td>\n",
       "    </tr>\n",
       "  </tbody>\n",
       "</table>\n",
       "<p>2 rows × 30 columns</p>\n",
       "</div>"
      ],
      "text/plain": [
       "             Time        V1        V2        V3        V4        V5        V6  \\\n",
       "Class                                                                           \n",
       "0      440.514919 -0.191290  0.240299  0.879805  0.245752 -0.028989  0.127834   \n",
       "1      439.000000 -2.677884 -0.602658 -0.260694  3.143275  0.418809 -1.245684   \n",
       "\n",
       "             V7        V8        V9  ...       V20       V21       V22  \\\n",
       "Class                                ...                                 \n",
       "0      0.105288 -0.070509  0.005240  ...  0.063227 -0.005717 -0.120199   \n",
       "1     -1.105907  0.661932 -1.520521  ...  1.114625  0.589464  0.200214   \n",
       "\n",
       "            V23       V24       V25       V26       V27       V28     Amount  \n",
       "Class                                                                         \n",
       "0     -0.046657  0.004919  0.116965  0.029516  0.014069 -0.015882   65.06451  \n",
       "1      0.455377  0.013198  0.162159  0.016239  0.004186 -0.053756  264.50000  \n",
       "\n",
       "[2 rows x 30 columns]"
      ]
     },
     "execution_count": 10,
     "metadata": {},
     "output_type": "execute_result"
    }
   ],
   "source": [
    "## Compare the values for both transaction on basic of mean\n",
    "\n",
    "data.groupby('Class').mean()"
   ]
  },
  {
   "cell_type": "markdown",
   "id": "50fe5f07",
   "metadata": {},
   "source": [
    "#### Under - Sampling : (For imbalanced data)\n",
    "\n",
    "- Build a sample dataset containing similar distribution of Legit Transaction & Fraud Transaction. We are going to take 492 Random Transactions from Legit Transactions then we are going to join them with Fraud Transactions. We will have 492 Legit Transaction & 492 Fraud Transaction. It will have uniform distribution & give better predictions.\n",
    "\n",
    "- Fraud Transactions --> 492"
   ]
  },
  {
   "cell_type": "code",
   "execution_count": 11,
   "id": "dd0e00c4",
   "metadata": {},
   "outputs": [],
   "source": [
    "legit_sample = legit.sample(n = 492)"
   ]
  },
  {
   "cell_type": "markdown",
   "id": "2780d604",
   "metadata": {},
   "source": [
    "#### Concanating 2 DataFrames (Joining)"
   ]
  },
  {
   "cell_type": "code",
   "execution_count": 12,
   "id": "9cc9f6c1",
   "metadata": {},
   "outputs": [
    {
     "data": {
      "text/html": [
       "<div>\n",
       "<style scoped>\n",
       "    .dataframe tbody tr th:only-of-type {\n",
       "        vertical-align: middle;\n",
       "    }\n",
       "\n",
       "    .dataframe tbody tr th {\n",
       "        vertical-align: top;\n",
       "    }\n",
       "\n",
       "    .dataframe thead th {\n",
       "        text-align: right;\n",
       "    }\n",
       "</style>\n",
       "<table border=\"1\" class=\"dataframe\">\n",
       "  <thead>\n",
       "    <tr style=\"text-align: right;\">\n",
       "      <th></th>\n",
       "      <th>Time</th>\n",
       "      <th>V1</th>\n",
       "      <th>V2</th>\n",
       "      <th>V3</th>\n",
       "      <th>V4</th>\n",
       "      <th>V5</th>\n",
       "      <th>V6</th>\n",
       "      <th>V7</th>\n",
       "      <th>V8</th>\n",
       "      <th>V9</th>\n",
       "      <th>...</th>\n",
       "      <th>V21</th>\n",
       "      <th>V22</th>\n",
       "      <th>V23</th>\n",
       "      <th>V24</th>\n",
       "      <th>V25</th>\n",
       "      <th>V26</th>\n",
       "      <th>V27</th>\n",
       "      <th>V28</th>\n",
       "      <th>Amount</th>\n",
       "      <th>Class</th>\n",
       "    </tr>\n",
       "  </thead>\n",
       "  <tbody>\n",
       "    <tr>\n",
       "      <th>1048</th>\n",
       "      <td>792</td>\n",
       "      <td>-0.735386</td>\n",
       "      <td>0.647026</td>\n",
       "      <td>1.730371</td>\n",
       "      <td>0.536997</td>\n",
       "      <td>0.256815</td>\n",
       "      <td>-0.231825</td>\n",
       "      <td>0.540271</td>\n",
       "      <td>0.011373</td>\n",
       "      <td>-0.433969</td>\n",
       "      <td>...</td>\n",
       "      <td>-0.088287</td>\n",
       "      <td>-0.169437</td>\n",
       "      <td>0.294318</td>\n",
       "      <td>0.051337</td>\n",
       "      <td>-0.112973</td>\n",
       "      <td>-0.637161</td>\n",
       "      <td>0.000513</td>\n",
       "      <td>0.001356</td>\n",
       "      <td>25.54</td>\n",
       "      <td>0</td>\n",
       "    </tr>\n",
       "    <tr>\n",
       "      <th>358</th>\n",
       "      <td>265</td>\n",
       "      <td>-0.293839</td>\n",
       "      <td>-0.044369</td>\n",
       "      <td>1.093146</td>\n",
       "      <td>-1.576473</td>\n",
       "      <td>-0.107492</td>\n",
       "      <td>-0.791217</td>\n",
       "      <td>0.291465</td>\n",
       "      <td>-0.093164</td>\n",
       "      <td>-1.406366</td>\n",
       "      <td>...</td>\n",
       "      <td>-0.235571</td>\n",
       "      <td>-0.286207</td>\n",
       "      <td>0.069303</td>\n",
       "      <td>0.107632</td>\n",
       "      <td>-0.385142</td>\n",
       "      <td>0.866055</td>\n",
       "      <td>-0.017603</td>\n",
       "      <td>0.039893</td>\n",
       "      <td>24.84</td>\n",
       "      <td>0</td>\n",
       "    </tr>\n",
       "    <tr>\n",
       "      <th>361</th>\n",
       "      <td>265</td>\n",
       "      <td>0.073631</td>\n",
       "      <td>1.051207</td>\n",
       "      <td>-0.281223</td>\n",
       "      <td>0.853749</td>\n",
       "      <td>1.065966</td>\n",
       "      <td>1.219197</td>\n",
       "      <td>-1.225597</td>\n",
       "      <td>-2.262214</td>\n",
       "      <td>-0.584441</td>\n",
       "      <td>...</td>\n",
       "      <td>-1.150128</td>\n",
       "      <td>0.870673</td>\n",
       "      <td>-0.266733</td>\n",
       "      <td>-1.048732</td>\n",
       "      <td>0.232705</td>\n",
       "      <td>-0.262463</td>\n",
       "      <td>0.187976</td>\n",
       "      <td>0.231428</td>\n",
       "      <td>1.00</td>\n",
       "      <td>0</td>\n",
       "    </tr>\n",
       "    <tr>\n",
       "      <th>724</th>\n",
       "      <td>548</td>\n",
       "      <td>-1.233426</td>\n",
       "      <td>-0.212441</td>\n",
       "      <td>1.839632</td>\n",
       "      <td>-1.802986</td>\n",
       "      <td>-0.493195</td>\n",
       "      <td>0.350424</td>\n",
       "      <td>-0.905316</td>\n",
       "      <td>0.844863</td>\n",
       "      <td>-1.523517</td>\n",
       "      <td>...</td>\n",
       "      <td>0.668410</td>\n",
       "      <td>1.574750</td>\n",
       "      <td>-0.176482</td>\n",
       "      <td>-0.221561</td>\n",
       "      <td>-0.058504</td>\n",
       "      <td>-0.163971</td>\n",
       "      <td>0.014670</td>\n",
       "      <td>-0.033210</td>\n",
       "      <td>24.99</td>\n",
       "      <td>0</td>\n",
       "    </tr>\n",
       "    <tr>\n",
       "      <th>791</th>\n",
       "      <td>602</td>\n",
       "      <td>-1.108292</td>\n",
       "      <td>-0.770162</td>\n",
       "      <td>2.759309</td>\n",
       "      <td>0.089810</td>\n",
       "      <td>-0.171879</td>\n",
       "      <td>0.093366</td>\n",
       "      <td>0.569612</td>\n",
       "      <td>-0.756861</td>\n",
       "      <td>1.559096</td>\n",
       "      <td>...</td>\n",
       "      <td>-0.387886</td>\n",
       "      <td>-0.010135</td>\n",
       "      <td>-0.292322</td>\n",
       "      <td>0.491111</td>\n",
       "      <td>-0.771185</td>\n",
       "      <td>0.873655</td>\n",
       "      <td>-0.839738</td>\n",
       "      <td>-0.665924</td>\n",
       "      <td>120.02</td>\n",
       "      <td>0</td>\n",
       "    </tr>\n",
       "  </tbody>\n",
       "</table>\n",
       "<p>5 rows × 31 columns</p>\n",
       "</div>"
      ],
      "text/plain": [
       "      Time        V1        V2        V3        V4        V5        V6  \\\n",
       "1048   792 -0.735386  0.647026  1.730371  0.536997  0.256815 -0.231825   \n",
       "358    265 -0.293839 -0.044369  1.093146 -1.576473 -0.107492 -0.791217   \n",
       "361    265  0.073631  1.051207 -0.281223  0.853749  1.065966  1.219197   \n",
       "724    548 -1.233426 -0.212441  1.839632 -1.802986 -0.493195  0.350424   \n",
       "791    602 -1.108292 -0.770162  2.759309  0.089810 -0.171879  0.093366   \n",
       "\n",
       "            V7        V8        V9  ...       V21       V22       V23  \\\n",
       "1048  0.540271  0.011373 -0.433969  ... -0.088287 -0.169437  0.294318   \n",
       "358   0.291465 -0.093164 -1.406366  ... -0.235571 -0.286207  0.069303   \n",
       "361  -1.225597 -2.262214 -0.584441  ... -1.150128  0.870673 -0.266733   \n",
       "724  -0.905316  0.844863 -1.523517  ...  0.668410  1.574750 -0.176482   \n",
       "791   0.569612 -0.756861  1.559096  ... -0.387886 -0.010135 -0.292322   \n",
       "\n",
       "           V24       V25       V26       V27       V28  Amount  Class  \n",
       "1048  0.051337 -0.112973 -0.637161  0.000513  0.001356   25.54      0  \n",
       "358   0.107632 -0.385142  0.866055 -0.017603  0.039893   24.84      0  \n",
       "361  -1.048732  0.232705 -0.262463  0.187976  0.231428    1.00      0  \n",
       "724  -0.221561 -0.058504 -0.163971  0.014670 -0.033210   24.99      0  \n",
       "791   0.491111 -0.771185  0.873655 -0.839738 -0.665924  120.02      0  \n",
       "\n",
       "[5 rows x 31 columns]"
      ]
     },
     "execution_count": 12,
     "metadata": {},
     "output_type": "execute_result"
    }
   ],
   "source": [
    "## Joining two dataframe and checking it\n",
    "new_data = pd.concat([legit_sample, fraud], axis = 0)\n",
    "new_data.head()"
   ]
  },
  {
   "cell_type": "code",
   "execution_count": 13,
   "id": "653764b8",
   "metadata": {},
   "outputs": [
    {
     "data": {
      "text/plain": [
       "0    492\n",
       "1      2\n",
       "Name: Class, dtype: int64"
      ]
     },
     "execution_count": 13,
     "metadata": {},
     "output_type": "execute_result"
    }
   ],
   "source": [
    "## Checking total values of data\n",
    "\n",
    "new_data['Class'].value_counts()"
   ]
  },
  {
   "cell_type": "code",
   "execution_count": 14,
   "id": "fd9671c5",
   "metadata": {},
   "outputs": [
    {
     "data": {
      "text/html": [
       "<div>\n",
       "<style scoped>\n",
       "    .dataframe tbody tr th:only-of-type {\n",
       "        vertical-align: middle;\n",
       "    }\n",
       "\n",
       "    .dataframe tbody tr th {\n",
       "        vertical-align: top;\n",
       "    }\n",
       "\n",
       "    .dataframe thead th {\n",
       "        text-align: right;\n",
       "    }\n",
       "</style>\n",
       "<table border=\"1\" class=\"dataframe\">\n",
       "  <thead>\n",
       "    <tr style=\"text-align: right;\">\n",
       "      <th></th>\n",
       "      <th>Time</th>\n",
       "      <th>V1</th>\n",
       "      <th>V2</th>\n",
       "      <th>V3</th>\n",
       "      <th>V4</th>\n",
       "      <th>V5</th>\n",
       "      <th>V6</th>\n",
       "      <th>V7</th>\n",
       "      <th>V8</th>\n",
       "      <th>V9</th>\n",
       "      <th>...</th>\n",
       "      <th>V20</th>\n",
       "      <th>V21</th>\n",
       "      <th>V22</th>\n",
       "      <th>V23</th>\n",
       "      <th>V24</th>\n",
       "      <th>V25</th>\n",
       "      <th>V26</th>\n",
       "      <th>V27</th>\n",
       "      <th>V28</th>\n",
       "      <th>Amount</th>\n",
       "    </tr>\n",
       "    <tr>\n",
       "      <th>Class</th>\n",
       "      <th></th>\n",
       "      <th></th>\n",
       "      <th></th>\n",
       "      <th></th>\n",
       "      <th></th>\n",
       "      <th></th>\n",
       "      <th></th>\n",
       "      <th></th>\n",
       "      <th></th>\n",
       "      <th></th>\n",
       "      <th></th>\n",
       "      <th></th>\n",
       "      <th></th>\n",
       "      <th></th>\n",
       "      <th></th>\n",
       "      <th></th>\n",
       "      <th></th>\n",
       "      <th></th>\n",
       "      <th></th>\n",
       "      <th></th>\n",
       "      <th></th>\n",
       "    </tr>\n",
       "  </thead>\n",
       "  <tbody>\n",
       "    <tr>\n",
       "      <th>0</th>\n",
       "      <td>449.422764</td>\n",
       "      <td>-0.243323</td>\n",
       "      <td>0.241207</td>\n",
       "      <td>0.879793</td>\n",
       "      <td>0.239239</td>\n",
       "      <td>0.001162</td>\n",
       "      <td>0.107653</td>\n",
       "      <td>0.108289</td>\n",
       "      <td>-0.099954</td>\n",
       "      <td>0.042197</td>\n",
       "      <td>...</td>\n",
       "      <td>0.073888</td>\n",
       "      <td>-0.025809</td>\n",
       "      <td>-0.093615</td>\n",
       "      <td>-0.045121</td>\n",
       "      <td>0.007348</td>\n",
       "      <td>0.105741</td>\n",
       "      <td>0.056640</td>\n",
       "      <td>0.009067</td>\n",
       "      <td>-0.028192</td>\n",
       "      <td>63.301768</td>\n",
       "    </tr>\n",
       "    <tr>\n",
       "      <th>1</th>\n",
       "      <td>439.000000</td>\n",
       "      <td>-2.677884</td>\n",
       "      <td>-0.602658</td>\n",
       "      <td>-0.260694</td>\n",
       "      <td>3.143275</td>\n",
       "      <td>0.418809</td>\n",
       "      <td>-1.245684</td>\n",
       "      <td>-1.105907</td>\n",
       "      <td>0.661932</td>\n",
       "      <td>-1.520521</td>\n",
       "      <td>...</td>\n",
       "      <td>1.114625</td>\n",
       "      <td>0.589464</td>\n",
       "      <td>0.200214</td>\n",
       "      <td>0.455377</td>\n",
       "      <td>0.013198</td>\n",
       "      <td>0.162159</td>\n",
       "      <td>0.016239</td>\n",
       "      <td>0.004186</td>\n",
       "      <td>-0.053756</td>\n",
       "      <td>264.500000</td>\n",
       "    </tr>\n",
       "  </tbody>\n",
       "</table>\n",
       "<p>2 rows × 30 columns</p>\n",
       "</div>"
      ],
      "text/plain": [
       "             Time        V1        V2        V3        V4        V5        V6  \\\n",
       "Class                                                                           \n",
       "0      449.422764 -0.243323  0.241207  0.879793  0.239239  0.001162  0.107653   \n",
       "1      439.000000 -2.677884 -0.602658 -0.260694  3.143275  0.418809 -1.245684   \n",
       "\n",
       "             V7        V8        V9  ...       V20       V21       V22  \\\n",
       "Class                                ...                                 \n",
       "0      0.108289 -0.099954  0.042197  ...  0.073888 -0.025809 -0.093615   \n",
       "1     -1.105907  0.661932 -1.520521  ...  1.114625  0.589464  0.200214   \n",
       "\n",
       "            V23       V24       V25       V26       V27       V28      Amount  \n",
       "Class                                                                          \n",
       "0     -0.045121  0.007348  0.105741  0.056640  0.009067 -0.028192   63.301768  \n",
       "1      0.455377  0.013198  0.162159  0.016239  0.004186 -0.053756  264.500000  \n",
       "\n",
       "[2 rows x 30 columns]"
      ]
     },
     "execution_count": 14,
     "metadata": {},
     "output_type": "execute_result"
    }
   ],
   "source": [
    "## Checking whether we got a good sample or bad sample, in case if we got a bad sample then the mean values will be very different\n",
    "\n",
    "new_data.groupby('Class').mean()"
   ]
  },
  {
   "cell_type": "markdown",
   "id": "217e5a9e",
   "metadata": {},
   "source": [
    "#### From above distribution of class values by comparing with previous values we can say that nature of dataset have not changed  & the difference is still there & our model will predict with good accuracy"
   ]
  },
  {
   "cell_type": "markdown",
   "id": "11edb5a6",
   "metadata": {},
   "source": [
    "## Model Building :-"
   ]
  },
  {
   "cell_type": "markdown",
   "id": "b05920aa",
   "metadata": {},
   "source": [
    "### Splitting the Data into Features & Target"
   ]
  },
  {
   "cell_type": "code",
   "execution_count": 15,
   "id": "286c9462",
   "metadata": {},
   "outputs": [],
   "source": [
    "## Assigning the values to x and y variable for model building\n",
    "x = new_data.drop(columns = 'Class', axis =1)\n",
    "y = new_data['Class']"
   ]
  },
  {
   "cell_type": "code",
   "execution_count": 16,
   "id": "ea4f76c0",
   "metadata": {},
   "outputs": [
    {
     "name": "stdout",
     "output_type": "stream",
     "text": [
      "      Time        V1        V2        V3        V4        V5        V6  \\\n",
      "1048   792 -0.735386  0.647026  1.730371  0.536997  0.256815 -0.231825   \n",
      "358    265 -0.293839 -0.044369  1.093146 -1.576473 -0.107492 -0.791217   \n",
      "361    265  0.073631  1.051207 -0.281223  0.853749  1.065966  1.219197   \n",
      "724    548 -1.233426 -0.212441  1.839632 -1.802986 -0.493195  0.350424   \n",
      "791    602 -1.108292 -0.770162  2.759309  0.089810 -0.171879  0.093366   \n",
      "...    ...       ...       ...       ...       ...       ...       ...   \n",
      "383    282 -0.356466  0.725418  1.971749  0.831343  0.369681 -0.107776   \n",
      "471    346  1.077079  0.284980  0.007731  1.657073  0.052020  0.446389   \n",
      "877    665  1.270835 -0.839493  0.407857 -0.388279 -1.279813 -0.829868   \n",
      "541    406 -2.312227  1.951992 -1.609851  3.997906 -0.522188 -1.426545   \n",
      "623    472 -3.043541 -3.157307  1.088463  2.288644  1.359805 -1.064823   \n",
      "\n",
      "            V7        V8        V9  ...       V20       V21       V22  \\\n",
      "1048  0.540271  0.011373 -0.433969  ... -0.105872 -0.088287 -0.169437   \n",
      "358   0.291465 -0.093164 -1.406366  ... -0.451588 -0.235571 -0.286207   \n",
      "361  -1.225597 -2.262214 -0.584441  ...  0.420519 -1.150128  0.870673   \n",
      "724  -0.905316  0.844863 -1.523517  ...  0.108815  0.668410  1.574750   \n",
      "791   0.569612 -0.756861  1.559096  ... -0.143261 -0.387886 -0.010135   \n",
      "...        ...       ...       ...  ...       ...       ...       ...   \n",
      "383   0.751610 -0.120166 -0.420675  ... -0.133602  0.020804  0.424312   \n",
      "471  -0.407036  0.355704  0.626039  ... -0.142799 -0.174337 -0.174161   \n",
      "877  -0.549670 -0.116525 -0.264824  ...  0.095461  0.002550 -0.102115   \n",
      "541  -2.537387  1.391657 -2.770089  ...  0.126911  0.517232 -0.035049   \n",
      "623   0.325574 -0.067794 -0.270953  ...  2.102339  0.661696  0.435477   \n",
      "\n",
      "           V23       V24       V25       V26       V27       V28  Amount  \n",
      "1048  0.294318  0.051337 -0.112973 -0.637161  0.000513  0.001356   25.54  \n",
      "358   0.069303  0.107632 -0.385142  0.866055 -0.017603  0.039893   24.84  \n",
      "361  -0.266733 -1.048732  0.232705 -0.262463  0.187976  0.231428    1.00  \n",
      "724  -0.176482 -0.221561 -0.058504 -0.163971  0.014670 -0.033210   24.99  \n",
      "791  -0.292322  0.491111 -0.771185  0.873655 -0.839738 -0.665924  120.02  \n",
      "...        ...       ...       ...       ...       ...       ...     ...  \n",
      "383  -0.015989  0.466754 -0.809962  0.657334 -0.043150 -0.046401    0.00  \n",
      "471  -0.153375 -0.466331  0.611001 -0.252871  0.090375  0.054820   10.99  \n",
      "877  -0.074715  0.376595  0.493224 -0.246441 -0.005995  0.021517   73.00  \n",
      "541  -0.465211  0.320198  0.044519  0.177840  0.261145 -0.143276    0.00  \n",
      "623   1.375966 -0.293803  0.279798 -0.145362 -0.252773  0.035764  529.00  \n",
      "\n",
      "[494 rows x 30 columns]\n"
     ]
    }
   ],
   "source": [
    "print(x)"
   ]
  },
  {
   "cell_type": "code",
   "execution_count": 17,
   "id": "d385d7f8",
   "metadata": {},
   "outputs": [
    {
     "name": "stdout",
     "output_type": "stream",
     "text": [
      "1048    0\n",
      "358     0\n",
      "361     0\n",
      "724     0\n",
      "791     0\n",
      "       ..\n",
      "383     0\n",
      "471     0\n",
      "877     0\n",
      "541     1\n",
      "623     1\n",
      "Name: Class, Length: 494, dtype: int64\n"
     ]
    }
   ],
   "source": [
    "print(y)"
   ]
  },
  {
   "cell_type": "markdown",
   "id": "2d36de4d",
   "metadata": {},
   "source": [
    "#### Splitting the Data into Train & Test"
   ]
  },
  {
   "cell_type": "code",
   "execution_count": 18,
   "id": "5fb34bb3",
   "metadata": {},
   "outputs": [],
   "source": [
    "x_train, x_test, y_train, y_test = train_test_split(x, y, test_size = 0.2, stratify = y, random_state = 2)"
   ]
  },
  {
   "cell_type": "code",
   "execution_count": 19,
   "id": "2ed0a315",
   "metadata": {},
   "outputs": [
    {
     "name": "stdout",
     "output_type": "stream",
     "text": [
      "(494, 30) (395, 30) (99, 30)\n"
     ]
    }
   ],
   "source": [
    "print(x.shape, x_train.shape, x_test.shape)"
   ]
  },
  {
   "cell_type": "markdown",
   "id": "088b83b7",
   "metadata": {},
   "source": [
    "#### Model Training\n",
    "\n",
    "- Logistic Regression"
   ]
  },
  {
   "cell_type": "code",
   "execution_count": 20,
   "id": "f4153a35",
   "metadata": {},
   "outputs": [],
   "source": [
    "## Using the Logistic Regression Model\n",
    "model = LogisticRegression()"
   ]
  },
  {
   "cell_type": "code",
   "execution_count": 21,
   "id": "eecbce66",
   "metadata": {},
   "outputs": [
    {
     "name": "stderr",
     "output_type": "stream",
     "text": [
      "C:\\ProgramData\\Anaconda3\\lib\\site-packages\\sklearn\\linear_model\\_logistic.py:814: ConvergenceWarning: lbfgs failed to converge (status=1):\n",
      "STOP: TOTAL NO. of ITERATIONS REACHED LIMIT.\n",
      "\n",
      "Increase the number of iterations (max_iter) or scale the data as shown in:\n",
      "    https://scikit-learn.org/stable/modules/preprocessing.html\n",
      "Please also refer to the documentation for alternative solver options:\n",
      "    https://scikit-learn.org/stable/modules/linear_model.html#logistic-regression\n",
      "  n_iter_i = _check_optimize_result(\n"
     ]
    },
    {
     "data": {
      "text/plain": [
       "LogisticRegression()"
      ]
     },
     "execution_count": 21,
     "metadata": {},
     "output_type": "execute_result"
    }
   ],
   "source": [
    "## Training the logistic regression model with train data\n",
    "\n",
    "model.fit(x_train, y_train)"
   ]
  },
  {
   "cell_type": "markdown",
   "id": "1c9dbc26",
   "metadata": {},
   "source": [
    "### Model Evaluation :- "
   ]
  },
  {
   "cell_type": "code",
   "execution_count": 22,
   "id": "1a6b374c",
   "metadata": {},
   "outputs": [
    {
     "name": "stdout",
     "output_type": "stream",
     "text": [
      "Accuracy Score on Training Data : 1.0\n"
     ]
    }
   ],
   "source": [
    "## Checking the Accuracy score on training data\n",
    "\n",
    "x_train_predict = model.predict(x_train)\n",
    "train_data_accuracy = accuracy_score(x_train_predict, y_train)\n",
    "print('Accuracy Score on Training Data :', train_data_accuracy)"
   ]
  },
  {
   "cell_type": "code",
   "execution_count": 23,
   "id": "12824556",
   "metadata": {},
   "outputs": [
    {
     "name": "stdout",
     "output_type": "stream",
     "text": [
      "Accuracy Score on Testing Data : 0.98989898989899\n"
     ]
    }
   ],
   "source": [
    "## Checking the Accuracy score on testing data\n",
    "\n",
    "x_test_predict = model.predict(x_test)\n",
    "test_data_accuracy = accuracy_score(x_test_predict, y_test)\n",
    "print('Accuracy Score on Testing Data :', test_data_accuracy)"
   ]
  },
  {
   "cell_type": "markdown",
   "id": "f6e015de",
   "metadata": {},
   "source": [
    "## CONCLUSION :-\n",
    "\n",
    "#### Accuracy score of our model is very good & our model is not underfitted/overfitted. We can use this model for Prediction."
   ]
  },
  {
   "cell_type": "markdown",
   "id": "fa376399",
   "metadata": {},
   "source": [
    "### Predictive System :-"
   ]
  },
  {
   "cell_type": "code",
   "execution_count": 24,
   "id": "4df6aa13",
   "metadata": {},
   "outputs": [
    {
     "name": "stdout",
     "output_type": "stream",
     "text": [
      "[0]\n",
      "The Transaction is Legit\n"
     ]
    },
    {
     "name": "stderr",
     "output_type": "stream",
     "text": [
      "C:\\ProgramData\\Anaconda3\\lib\\site-packages\\sklearn\\base.py:450: UserWarning: X does not have valid feature names, but LogisticRegression was fitted with feature names\n",
      "  warnings.warn(\n"
     ]
    }
   ],
   "source": [
    "input_data = (1,-0.966271711572087,-0.185226008082898,1.79299333957872,-0.863291275036453,-0.0103088796030823,1.24720316752486,0.23760893977178,0.377435874652262,-1.38702406270197,-0.0549519224713749,-0.226487263835401,0.178228225877303,0.507756869957169,-0.28792374549456,-0.631418117709045,-1.0596472454325,-0.684092786345479,1.96577500349538,-1.2326219700892,-0.208037781160366,-0.108300452035545,0.00527359678253453,-0.190320518742841,-1.17557533186321,0.647376034602038,-0.221928844458407,0.0627228487293033,0.0614576285006353,123.5)\n",
    "\n",
    "# Changing the input data to numpy array\n",
    "input_data_as_numpy_array = np.asarray(input_data)\n",
    "\n",
    "# Reshaping the array for one sample\n",
    "input_data_reshape = input_data_as_numpy_array.reshape(1,-1)\n",
    "\n",
    "prediction = model.predict(input_data_reshape)\n",
    "print(prediction)\n",
    "\n",
    "if (prediction[0] == 0):\n",
    "    print('The Transaction is Legit')\n",
    "else:\n",
    "    print('The Transaction is Fraud')"
   ]
  },
  {
   "cell_type": "markdown",
   "id": "16ea215b",
   "metadata": {},
   "source": [
    "### In this way we can conclude that the Transaction is Legit on the basic of our predictive Model."
   ]
  },
  {
   "cell_type": "markdown",
   "id": "edb631d1",
   "metadata": {},
   "source": [
    "                                 - - - - - - - - X X X X X X X X - - - - - - - -"
   ]
  }
 ],
 "metadata": {
  "kernelspec": {
   "display_name": "Python 3 (ipykernel)",
   "language": "python",
   "name": "python3"
  },
  "language_info": {
   "codemirror_mode": {
    "name": "ipython",
    "version": 3
   },
   "file_extension": ".py",
   "mimetype": "text/x-python",
   "name": "python",
   "nbconvert_exporter": "python",
   "pygments_lexer": "ipython3",
   "version": "3.9.13"
  }
 },
 "nbformat": 4,
 "nbformat_minor": 5
}
